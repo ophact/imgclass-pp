{
 "cells": [
  {
   "cell_type": "code",
   "execution_count": 2,
   "metadata": {
    "executionInfo": {
     "elapsed": 894,
     "status": "ok",
     "timestamp": 1701893039066,
     "user": {
      "displayName": "JovPiano BNJ",
      "userId": "01037020821098556719"
     },
     "user_tz": -60
    },
    "id": "Qrdxf43qYr7O"
   },
   "outputs": [],
   "source": [
    "# Loading all necessary modules\n",
    "import numpy as np\n",
    "import pandas as pd\n",
    "from matplotlib import pyplot as plt\n",
    "import imageio"
   ]
  },
  {
   "cell_type": "code",
   "execution_count": 4,
   "metadata": {
    "colab": {
     "base_uri": "https://localhost:8080/"
    },
    "executionInfo": {
     "elapsed": 72761,
     "status": "ok",
     "timestamp": 1701893177909,
     "user": {
      "displayName": "JovPiano BNJ",
      "userId": "01037020821098556719"
     },
     "user_tz": -60
    },
    "id": "bZdRJC1sZdvX",
    "outputId": "6a93ae50-c365-4c7a-e4b9-eb62f0e0d4cd"
   },
   "outputs": [
    {
     "name": "stdout",
     "output_type": "stream",
     "text": [
      "Mounted at /content/gdrive\n"
     ]
    }
   ],
   "source": [
    "import pickle\n",
    "from google.colab import drive\n",
    "drive.mount('/content/gdrive')"
   ]
  },
  {
   "cell_type": "code",
   "execution_count": 5,
   "metadata": {
    "colab": {
     "background_save": true
    },
    "executionInfo": {
     "elapsed": 4049,
     "status": "ok",
     "timestamp": 1701893186130,
     "user": {
      "displayName": "JovPiano BNJ",
      "userId": "01037020821098556719"
     },
     "user_tz": -60
    },
    "id": "-qXDy6ZhZiyE"
   },
   "outputs": [],
   "source": [
    "with open('gdrive/MyDrive/train', 'rb') as file:\n",
    "  dataset = pickle.load(file, encoding='bytes')\n",
    "  all_data = dataset[b'data']"
   ]
  },
  {
   "cell_type": "code",
   "execution_count": 6,
   "metadata": {
    "colab": {
     "base_uri": "https://localhost:8080/"
    },
    "executionInfo": {
     "elapsed": 237331,
     "status": "ok",
     "timestamp": 1701893424486,
     "user": {
      "displayName": "JovPiano BNJ",
      "userId": "01037020821098556719"
     },
     "user_tz": -60
    },
    "id": "owQq6F1FZ0Lt",
    "outputId": "687af52d-7c39-4063-d01c-38ce9ee8e08d"
   },
   "outputs": [
    {
     "name": "stdout",
     "output_type": "stream",
     "text": [
      "0 100 200 300 400 500 600 700 800 900 1000 1100 1200 1300 1400 1500 1600 1700 1800 1900 2000 2100 2200 2300 2400 2500 2600 2700 2800 2900 3000 3100 3200 3300 3400 3500 3600 3700 3800 3900 4000 4100 4200 4300 4400 4500 4600 4700 4800 4900 5000 5100 5200 5300 5400 5500 5600 5700 5800 5900 6000 6100 6200 6300 6400 6500 6600 6700 6800 6900 7000 7100 7200 7300 7400 7500 7600 7700 7800 7900 8000 8100 8200 8300 8400 8500 8600 8700 8800 8900 9000 9100 9200 9300 9400 9500 9600 9700 9800 9900 10000 10100 10200 10300 10400 10500 10600 10700 10800 10900 11000 11100 11200 11300 11400 11500 11600 11700 11800 11900 12000 12100 12200 12300 12400 12500 12600 12700 12800 12900 13000 13100 13200 13300 13400 13500 13600 13700 13800 13900 14000 14100 14200 14300 14400 14500 14600 14700 14800 14900 15000 15100 15200 15300 15400 15500 15600 15700 15800 15900 16000 16100 16200 16300 16400 16500 16600 16700 16800 16900 17000 17100 17200 17300 17400 17500 17600 17700 17800 17900 18000 18100 18200 18300 18400 18500 18600 18700 18800 18900 19000 19100 19200 19300 19400 19500 19600 19700 19800 19900 20000 20100 20200 20300 20400 20500 20600 20700 20800 20900 21000 21100 21200 21300 21400 21500 21600 21700 21800 21900 22000 22100 22200 22300 22400 22500 22600 22700 22800 22900 23000 23100 23200 23300 23400 23500 23600 23700 23800 23900 24000 24100 24200 24300 24400 24500 24600 24700 24800 24900 25000 25100 25200 25300 25400 25500 25600 25700 25800 25900 26000 26100 26200 26300 26400 26500 26600 26700 26800 26900 27000 27100 27200 27300 27400 27500 27600 27700 27800 27900 28000 28100 28200 28300 28400 28500 28600 28700 28800 28900 29000 29100 29200 29300 29400 29500 29600 29700 29800 29900 30000 30100 30200 30300 30400 30500 30600 30700 30800 30900 31000 31100 31200 31300 31400 31500 31600 31700 31800 31900 32000 32100 32200 32300 32400 32500 32600 32700 32800 32900 33000 33100 33200 33300 33400 33500 33600 33700 33800 33900 34000 34100 34200 34300 34400 34500 34600 34700 34800 34900 35000 35100 35200 35300 35400 35500 35600 35700 35800 35900 36000 36100 36200 36300 36400 36500 36600 36700 36800 36900 37000 37100 37200 37300 37400 37500 37600 37700 37800 37900 38000 38100 38200 38300 38400 38500 38600 38700 38800 38900 39000 39100 39200 39300 39400 39500 39600 39700 39800 39900 40000 40100 40200 40300 40400 40500 40600 40700 40800 40900 41000 41100 41200 41300 41400 41500 41600 41700 41800 41900 42000 42100 42200 42300 42400 42500 42600 42700 42800 42900 43000 43100 43200 43300 43400 43500 43600 43700 43800 43900 44000 44100 44200 44300 44400 44500 44600 44700 44800 44900 45000 45100 45200 45300 45400 45500 45600 45700 45800 45900 46000 46100 46200 46300 46400 46500 46600 46700 46800 46900 47000 47100 47200 47300 47400 47500 47600 47700 47800 47900 48000 48100 48200 48300 48400 48500 48600 48700 48800 48900 49000 49100 49200 49300 49400 49500 49600 49700 49800 49900 "
     ]
    }
   ],
   "source": [
    "# Step 1: Transform the objects' dimensions.\n",
    "all_data = all_data.reshape([50000, 3, 32, 32])\n",
    "reshaped_data = np.zeros((50000, 32, 32, 3))\n",
    "for i in range(50000):\n",
    "    if i % 100 == 0: print(i, end=\" \")\n",
    "    for j in range(32):\n",
    "        for k in range(32):\n",
    "            for l in range(3):\n",
    "                reshaped_data[i][j][k][l] = all_data[i][l][j][k]"
   ]
  },
  {
   "cell_type": "code",
   "execution_count": 7,
   "metadata": {
    "executionInfo": {
     "elapsed": 2269,
     "status": "ok",
     "timestamp": 1701893426749,
     "user": {
      "displayName": "JovPiano BNJ",
      "userId": "01037020821098556719"
     },
     "user_tz": -60
    },
    "id": "IXglWdrFaDz8"
   },
   "outputs": [],
   "source": [
    "classified_data = np.zeros((20, 2500, 32, 32, 3))\n",
    "__sizes = [0] * 100\n",
    "for i in range(50000):\n",
    "    label = dataset[b'coarse_labels'][i]\n",
    "    classified_data[label][__sizes[label]] = reshaped_data[i]\n",
    "    __sizes[label] += 1\n",
    "\n",
    "train_data = np.zeros((20, 2000, 32, 32, 3))\n",
    "valid_data = np.zeros((20, 500, 32, 32, 3))\n",
    "for i in range(20):\n",
    "    for j in range(2500):\n",
    "        if j < 2000: train_data[i][j] = classified_data[i][j]\n",
    "        else: valid_data[i][j - 2000] = classified_data[i][j]"
   ]
  },
  {
   "cell_type": "code",
   "execution_count": 8,
   "metadata": {
    "colab": {
     "base_uri": "https://localhost:8080/"
    },
    "executionInfo": {
     "elapsed": 219149,
     "status": "ok",
     "timestamp": 1701893645892,
     "user": {
      "displayName": "JovPiano BNJ",
      "userId": "01037020821098556719"
     },
     "user_tz": -60
    },
    "id": "qhecBAuMaLE6",
    "outputId": "1bb98026-ffe0-4888-c081-8b4b4355bd04"
   },
   "outputs": [
    {
     "name": "stdout",
     "output_type": "stream",
     "text": [
      "0 1 2 3 4 5 6 7 8 9 10 11 12 13 14 15 16 17 18 19 "
     ]
    }
   ],
   "source": [
    "ranges = [[0, 1], [2, 2], [3, 3], [4, 4], [5, 5], [6, 6], [7, 7], [8, 8], [11, 11], [12 ,12, 16, 16], [13, 13], [14, 14], [15, 15],\n",
    "          [17, 17], [18, 19]]\n",
    "\n",
    "assignments = [-1] * 20\n",
    "i = 0\n",
    "for r in ranges:\n",
    "    if len(r) == 4:\n",
    "        for k in [12, 16]:\n",
    "            assignments[k] = i\n",
    "    else:\n",
    "        for k in range(r[0], r[1] + 1):\n",
    "            assignments[k] = i\n",
    "    i += 1\n",
    "\n",
    "'''y = 0\n",
    "for i in range(100):\n",
    "    print(i)\n",
    "    for j in range(400):\n",
    "        x = 0\n",
    "        for k in range(32):\n",
    "            for l in range(32):\n",
    "                for m in range(3):\n",
    "                    df[x][y] = train_data[i][j][k][l][m]\n",
    "                    x += 1\n",
    "        df[3072][y] = assignments[i]\n",
    "        y += 1'''\n",
    "lengths = [2500, 2500, 2500, 2500, 2500, 2500, 2500, 2500, 2500, 2500, 2500, 2500, 2500, 2500, 2500]\n",
    "classified_data_2 = np.zeros((37500, 1, 32, 32, 3), dtype=np.uint8)\n",
    "y_data = np.zeros((37500))\n",
    "ptrs = []\n",
    "train_ptr = 0\n",
    "valid_ptr = 30000\n",
    "\n",
    "for i in range(20):\n",
    "    print(i, end=\" \")\n",
    "    if assignments[i] == -1: continue\n",
    "    length = len(classified_data[i]) // 2 if i in [0, 1, 12, 16, 18, 19] else len(classified_data[i])\n",
    "    for j in range(length):\n",
    "        if j >= length * 4 // 5:\n",
    "            for k in range(32):\n",
    "                for l in range(32):\n",
    "                    for m in range(3):\n",
    "                        classified_data_2[valid_ptr][0][k][l][m] = classified_data[i][j][k][l][m]\n",
    "            y_data[valid_ptr] = assignments[i]\n",
    "            valid_ptr += 1\n",
    "        else:\n",
    "            for k in range(32):\n",
    "                for l in range(32):\n",
    "                    for m in range(3):\n",
    "                        classified_data_2[train_ptr][0][k][l][m] = classified_data[i][j][k][l][m]\n",
    "            y_data[train_ptr] = assignments[i]\n",
    "            train_ptr += 1"
   ]
  },
  {
   "cell_type": "code",
   "execution_count": 9,
   "metadata": {
    "colab": {
     "base_uri": "https://localhost:8080/"
    },
    "executionInfo": {
     "elapsed": 529241,
     "status": "ok",
     "timestamp": 1701894175114,
     "user": {
      "displayName": "JovPiano BNJ",
      "userId": "01037020821098556719"
     },
     "user_tz": -60
    },
    "id": "r6FcDNhbaXgU",
    "outputId": "8b7d8783-81ed-458d-ee3a-835521d343db"
   },
   "outputs": [
    {
     "name": "stdout",
     "output_type": "stream",
     "text": [
      "0 100 200 300 400 500 600 700 800 900 1000 1100 1200 1300 1400 1500 1600 1700 1800 1900 2000 2100 2200 2300 2400 2500 2600 2700 2800 2900 3000 3100 3200 3300 3400 3500 3600 3700 3800 3900 4000 4100 4200 4300 4400 4500 4600 4700 4800 4900 5000 5100 5200 5300 5400 5500 5600 5700 5800 5900 6000 6100 6200 6300 6400 6500 6600 6700 6800 6900 7000 7100 7200 7300 7400 7500 7600 7700 7800 7900 8000 8100 8200 8300 8400 8500 8600 8700 8800 8900 9000 9100 9200 9300 9400 9500 9600 9700 9800 9900 10000 10100 10200 10300 10400 10500 10600 10700 10800 10900 11000 11100 11200 11300 11400 11500 11600 11700 11800 11900 12000 12100 12200 12300 12400 12500 12600 12700 12800 12900 13000 13100 13200 13300 13400 13500 13600 13700 13800 13900 14000 14100 14200 14300 14400 14500 14600 14700 14800 14900 15000 15100 15200 15300 15400 15500 15600 15700 15800 15900 16000 16100 16200 16300 16400 16500 16600 16700 16800 16900 17000 17100 17200 17300 17400 17500 17600 17700 17800 17900 18000 18100 18200 18300 18400 18500 18600 18700 18800 18900 19000 19100 19200 19300 19400 "
     ]
    }
   ],
   "source": [
    "condensed_data = np.zeros((19500, 1, 32, 32, 3), dtype=np.uint8)\n",
    "condensed_y = np.zeros((19500), dtype=np.uint8)\n",
    "\n",
    "ptrs = [1500] * 13\n",
    "training = 0\n",
    "validation = 0\n",
    "\n",
    "bluerept = 0\n",
    "\n",
    "for i in range(37500):\n",
    "    if max(ptrs) == 0: break\n",
    "    val = int(y_data[i])\n",
    "    if val in [7, 8, 9]: val = 7\n",
    "    elif val in [10, 11, 12, 13, 14]: val -= 2\n",
    "\n",
    "    if ptrs[val] == 0: continue\n",
    "    blueback = False\n",
    "    for k in range(30):\n",
    "        for l in range(30):\n",
    "            cells = []\n",
    "            cells.append(classified_data_2[i][0][k][l])\n",
    "            cells.append(classified_data_2[i][0][k+1][l])\n",
    "            cells.append(classified_data_2[i][0][k+2][l])\n",
    "            cells.append(classified_data_2[i][0][k][l+1])\n",
    "            cells.append(classified_data_2[i][0][k+1][l+1])\n",
    "            cells.append(classified_data_2[i][0][k+2][l+1])\n",
    "            cells.append(classified_data_2[i][0][k][l+2])\n",
    "            cells.append(classified_data_2[i][0][k+1][l+2])\n",
    "            cells.append(classified_data_2[i][0][k+2][l+2])\n",
    "            cnt = 0\n",
    "            for cell in cells:\n",
    "                if (int(cell[2]) / 10 >= int(cell[0]) + int(cell[1])):\n",
    "                    cnt += 1\n",
    "            if cnt == 9:\n",
    "                blueback = True\n",
    "                break\n",
    "        if blueback: break\n",
    "\n",
    "    if blueback and val == 10: continue\n",
    "\n",
    "    is_grayscale = True\n",
    "    for j in range(32):\n",
    "        for k in range(32):\n",
    "            one = classified_data_2[i][0][j][k][0]\n",
    "            two = classified_data_2[i][0][j][k][1]\n",
    "            three = classified_data_2[i][0][j][k][2]\n",
    "            if max(one, two, three) != min(one, two, three):\n",
    "                is_grayscale = False\n",
    "                break\n",
    "        if not is_grayscale:\n",
    "            break\n",
    "    if is_grayscale: continue\n",
    "\n",
    "    found = False\n",
    "    for k in range(31):\n",
    "        for l in range(31):\n",
    "            if min(classified_data_2[i][0][k][l][0],classified_data_2[i][0][k][l][1],classified_data_2[i][0][k][l][2],\\\n",
    "                    classified_data_2[i][0][k+1][l][0],classified_data_2[i][0][k+1][l][1],classified_data_2[i][0][k+1][l][2],\\\n",
    "                    classified_data_2[i][0][k][l+1][0],classified_data_2[i][0][k][l+1][1],classified_data_2[i][0][k][l+1][2],\\\n",
    "                    classified_data_2[i][0][k+1][l+1][0],classified_data_2[i][0][k+1][l+1][1],classified_data_2[i][0][k+1][l+1][2])==255:\n",
    "                found = True\n",
    "                break\n",
    "        if found: break\n",
    "    if found: continue\n",
    "\n",
    "    if (training + validation) % 100 == 0: print(training + validation, end=\" \")\n",
    "\n",
    "\n",
    "    if ptrs[val] <= 300:\n",
    "        condensed_data[15600 + validation] = classified_data_2[i]\n",
    "        condensed_y[15600 + validation] = val\n",
    "        validation += 1\n",
    "    else:\n",
    "        condensed_data[training] = classified_data_2[i]\n",
    "        condensed_y[training] = val\n",
    "        training += 1\n",
    "    ptrs[val] -= 1\n",
    "\n",
    "shuffled_data = np.zeros((19500, 1, 32, 32, 3), dtype=np.uint8)\n",
    "shuffled_y = np.zeros((19500), dtype=np.uint8)\n",
    "\n",
    "from random import shuffle\n",
    "shuffled_train = [*range(15600)]\n",
    "shuffled_valid = [*range(15600, 19500)]\n",
    "\n",
    "shuffle(shuffled_train)\n",
    "shuffle(shuffled_valid)\n",
    "\n",
    "for i in range(15600):\n",
    "    shuffled_data[shuffled_train[i]] = condensed_data[i]\n",
    "    shuffled_y[shuffled_train[i]] = condensed_y[i]\n",
    "\n",
    "\n",
    "for i in range(3900):\n",
    "    shuffled_data[shuffled_valid[i]] = condensed_data[15600 + i]\n",
    "    shuffled_y[shuffled_valid[i]] = condensed_y[15600 + i]"
   ]
  },
  {
   "cell_type": "code",
   "execution_count": null,
   "metadata": {
    "colab": {
     "background_save": true,
     "base_uri": "https://localhost:8080/"
    },
    "id": "-r5Nrrxsaigi"
   },
   "outputs": [
    {
     "name": "stdout",
     "output_type": "stream",
     "text": [
      "Going 0.01 regularization\n",
      "Epoch 1: 27.7% (train) vs. 22.4% (validation)\n",
      "Epoch 2: 34.4% (train) vs. 33.2% (validation)\n",
      "Epoch 3: 37.2% (train) vs. 34.6% (validation)\n",
      "Epoch 4: 38.5% (train) vs. 30.5% (validation)\n",
      "Epoch 5: 38.7% (train) vs. 35.0% (validation)\n",
      "Epoch 6: 39.3% (train) vs. 31.5% (validation)\n",
      "Epoch 7: 39.0% (train) vs. 26.7% (validation)\n",
      "Epoch 8: 40.2% (train) vs. 29.1% (validation)\n",
      "Epoch 9: 41.3% (train) vs. 29.6% (validation)\n",
      "Epoch 10: 41.6% (train) vs. 34.4% (validation)\n",
      "Epoch 11: 42.4% (train) vs. 36.5% (validation)\n",
      "Epoch 12: 43.4% (train) vs. 35.1% (validation)\n",
      "Epoch 13: 43.9% (train) vs. 36.8% (validation)\n",
      "Epoch 14: 45.0% (train) vs. 31.3% (validation)\n",
      "Epoch 15: 45.9% (train) vs. 32.5% (validation)\n",
      "Epoch 16: 46.3% (train) vs. 35.1% (validation)\n",
      "Epoch 17: 47.3% (train) vs. 34.2% (validation)\n",
      "Epoch 18: 47.9% (train) vs. 39.8% (validation)\n",
      "Epoch 19: 48.7% (train) vs. 40.4% (validation)\n",
      "Epoch 20: 49.6% (train) vs. 37.9% (validation)\n",
      "Epoch 21: 50.2% (train) vs. 42.7% (validation)\n",
      "Epoch 22: 51.8% (train) vs. 35.0% (validation)\n",
      "Epoch 23: 51.9% (train) vs. 46.3% (validation)\n",
      "Epoch 24: 52.8% (train) vs. 44.3% (validation)\n",
      "Epoch 25: 53.7% (train) vs. 37.8% (validation)\n",
      "Epoch 26: 54.0% (train) vs. 43.1% (validation)\n",
      "Epoch 27: 54.6% (train) vs. 41.2% (validation)\n",
      "Epoch 28: 56.0% (train) vs. 46.6% (validation)\n",
      "Epoch 29: 56.5% (train) vs. 44.9% (validation)\n",
      "Epoch 30: 56.7% (train) vs. 45.9% (validation)\n",
      "Epoch 31: 57.2% (train) vs. 45.4% (validation)\n",
      "Epoch 32: 57.7% (train) vs. 46.8% (validation)\n",
      "Epoch 33: 58.6% (train) vs. 48.6% (validation)\n",
      "Epoch 34: 58.7% (train) vs. 48.2% (validation)\n",
      "Epoch 35: 59.0% (train) vs. 46.6% (validation)\n",
      "Epoch 36: 60.0% (train) vs. 44.5% (validation)\n",
      "Epoch 37: 59.9% (train) vs. 46.9% (validation)\n",
      "Epoch 38: 60.1% (train) vs. 44.2% (validation)\n",
      "Epoch 39: 60.9% (train) vs. 50.8% (validation)\n",
      "Epoch 40: 61.4% (train) vs. 46.5% (validation)\n",
      "Epoch 41: 61.9% (train) vs. 48.6% (validation)\n",
      "Epoch 42: 62.3% (train) vs. 49.1% (validation)\n",
      "Epoch 43: 62.7% (train) vs. 50.3% (validation)\n",
      "Epoch 44: 62.7% (train) vs. 49.8% (validation)\n",
      "Epoch 45: 63.1% (train) vs. 50.2% (validation)\n",
      "Epoch 46: 63.6% (train) vs. 44.3% (validation)\n",
      "Epoch 47: 63.7% (train) vs. 48.4% (validation)\n",
      "Epoch 48: 63.9% (train) vs. 48.4% (validation)\n",
      "Epoch 49: 64.4% (train) vs. 49.5% (validation)\n",
      "Epoch 50: 64.3% (train) vs. 49.6% (validation)\n",
      "Epoch 51: 64.6% (train) vs. 46.2% (validation)\n",
      "Epoch 52: 64.6% (train) vs. 46.8% (validation)\n",
      "Epoch 53: 65.1% (train) vs. 48.7% (validation)\n",
      "Epoch 54: 65.2% (train) vs. 50.5% (validation)\n",
      "Epoch 55: 65.5% (train) vs. 49.7% (validation)\n",
      "Epoch 56: 65.7% (train) vs. 51.2% (validation)\n",
      "Epoch 57: 65.9% (train) vs. 48.1% (validation)\n",
      "Epoch 58: 65.3% (train) vs. 48.5% (validation)\n",
      "Epoch 59: 66.2% (train) vs. 47.8% (validation)\n",
      "Epoch 60: 66.4% (train) vs. 46.3% (validation)\n",
      "Epoch 61: 65.9% (train) vs. 50.9% (validation)\n",
      "Epoch 62: 66.5% (train) vs. 51.0% (validation)\n",
      "Epoch 63: 66.9% (train) vs. 51.8% (validation)\n",
      "Epoch 64: 67.4% (train) vs. 46.9% (validation)\n",
      "Epoch 65: 67.1% (train) vs. 46.4% (validation)\n",
      "Epoch 66: 66.9% (train) vs. 50.3% (validation)\n",
      "Epoch 67: 66.8% (train) vs. 48.0% (validation)\n",
      "Epoch 68: 67.1% (train) vs. 49.9% (validation)\n",
      "Epoch 69: 66.8% (train) vs. 49.7% (validation)\n",
      "Epoch 70: 67.1% (train) vs. 50.4% (validation)\n",
      "Epoch 71: 67.5% (train) vs. 51.7% (validation)\n",
      "Epoch 72: 67.8% (train) vs. 47.2% (validation)\n",
      "Epoch 73: 67.8% (train) vs. 49.0% (validation)\n",
      "Epoch 74: 68.0% (train) vs. 51.0% (validation)\n",
      "Epoch 75: 67.5% (train) vs. 45.8% (validation)\n",
      "End: 61.3% (train) vs. 45.8% (validation)\n"
     ]
    }
   ],
   "source": [
    "if True:\n",
    "    def one_hot_encode(arr):\n",
    "        res=np.zeros((arr.size, 13), dtype=np.uint8)\n",
    "        for i in range(arr.size):\n",
    "            res[i][int(arr[i])]=1\n",
    "        return res\n",
    "\n",
    "\n",
    "\n",
    "    from tensorflow.keras import regularizers\n",
    "    from tensorflow.keras import losses\n",
    "    from tensorflow.keras import callbacks\n",
    "    from tensorflow.keras import models, layers\n",
    "    from tensorflow.keras import initializers\n",
    "    from tensorflow import keras\n",
    "    import tensorflow as tf\n",
    "\n",
    "    from math import sqrt\n",
    "\n",
    "    def scaled_loss(y_true, y_pred):\n",
    "        cce = losses.categorical_crossentropy(y_true, y_pred)\n",
    "        chosen = tf.math.argmax(y_true)\n",
    "        if str(chosen.shape[0]) != '?' and (int(chosen.eval()[0]), int(y_pred.eval()[0])) in ((2, 3), (3, 2), (4, 5), (5, 4), (6, 8), (6, 11), (0, 10), (2, 4), (2, 5), (4, 2), (5, 2)):\n",
    "            cce = tf.multiply(cce, 10000)\n",
    "        return cce\n",
    "\n",
    "    class MyCallback(callbacks.Callback):\n",
    "        def on_epoch_end(self, epoch, logs=None):\n",
    "            print(f'Epoch {epoch + 1}: {logs[\"accuracy\"]*100//0.1/10}% (train) vs. {logs[\"val_accuracy\"]*100//0.1/10}% (validation)')\n",
    "\n",
    "    for val in [1e-2]:\n",
    "        print(f'Going {val} regularization')\n",
    "        second_iteration = models.Sequential()\n",
    "\n",
    "        second_iteration.add(layers.InputLayer(input_shape=(1, 32, 32, 3)))\n",
    "        second_iteration.add(layers.Conv3D(activation='relu', kernel_size=3, filters=64, strides=1, padding='same', use_bias=True, kernel_regularizer=regularizers.l2(val)))\n",
    "        second_iteration.add(layers.BatchNormalization())\n",
    "        second_iteration.add(layers.Conv3D(activation='relu', kernel_size=3, filters=64, strides=1, padding='same', use_bias=True, kernel_regularizer=regularizers.l2(val)))\n",
    "        second_iteration.add(layers.BatchNormalization())\n",
    "        second_iteration.add(layers.Conv3D(activation='relu', kernel_size=3, filters=64, strides=1, padding='same', use_bias=True, kernel_regularizer=regularizers.l2(val)))\n",
    "        second_iteration.add(layers.MaxPool3D(pool_size=2, strides=2, padding='same'))\n",
    "        second_iteration.add(layers.BatchNormalization())\n",
    "        second_iteration.add(layers.Conv3D(activation='relu', kernel_size=3, filters=64, strides=1, padding='same', use_bias=True, kernel_regularizer=regularizers.l2(val)))\n",
    "        second_iteration.add(layers.BatchNormalization())\n",
    "        second_iteration.add(layers.Conv3D(activation='relu', kernel_size=3, filters=64, strides=1, padding='same', use_bias=True, kernel_regularizer=regularizers.l2(val)))\n",
    "        second_iteration.add(layers.BatchNormalization())\n",
    "        second_iteration.add(layers.Conv3D(activation='relu', kernel_size=3, filters=64, strides=1, padding='same', use_bias=True, kernel_regularizer=regularizers.l2(val)))\n",
    "        second_iteration.add(layers.MaxPool3D(pool_size=2, strides=2, padding='same'))\n",
    "        second_iteration.add(layers.BatchNormalization())\n",
    "        second_iteration.add(layers.Conv3D(activation='relu', kernel_size=3, filters=64, strides=1, padding='same', use_bias=True, kernel_regularizer=regularizers.l2(val)))\n",
    "        second_iteration.add(layers.BatchNormalization())\n",
    "        second_iteration.add(layers.Conv3D(activation='relu', kernel_size=3, filters=64, strides=1, padding='same', use_bias=True, kernel_regularizer=regularizers.l2(val)))\n",
    "        second_iteration.add(layers.BatchNormalization())\n",
    "        second_iteration.add(layers.Conv3D(activation='relu', kernel_size=3, filters=64, strides=1, padding='same', use_bias=True, kernel_regularizer=regularizers.l2(val)))\n",
    "        second_iteration.add(layers.MaxPool3D(pool_size=2, strides=2, padding='same'))\n",
    "        second_iteration.add(layers.Flatten())\n",
    "        second_iteration.add(layers.BatchNormalization())\n",
    "        second_iteration.add(layers.Dense(units=200, input_dim=1024, activation='relu', use_bias=True, kernel_regularizer=regularizers.l2(val)))\n",
    "        second_iteration.add(layers.BatchNormalization())\n",
    "        second_iteration.add(layers.Dense(units=100, input_dim=200, activation='relu', use_bias=True, kernel_regularizer=regularizers.l2(val)))\n",
    "        second_iteration.add(layers.BatchNormalization())\n",
    "        second_iteration.add(layers.Dense(units=13, input_dim=100, activation='softmax', use_bias=True, kernel_regularizer=regularizers.l2(val)))\n",
    "\n",
    "        opt = keras.optimizers.Adam()\n",
    "\n",
    "        second_iteration.compile(opt, 'categorical_crossentropy', ['accuracy'])\n",
    "\n",
    "        cb = [MyCallback()]\n",
    "\n",
    "        second_iteration.fit(shuffled_data, one_hot_encode(shuffled_y), batch_size=32, epochs=75, validation_split=0.2, shuffle=False, verbose=False, callbacks=cb)\n",
    "\n",
    "        tr_acc = second_iteration.evaluate(shuffled_data[:15600], one_hot_encode(shuffled_y[:15600]), verbose=False)[1]*100//0.1/10\n",
    "        valid_acc = second_iteration.evaluate(shuffled_data[15600:], one_hot_encode(shuffled_y[15600:]), verbose=False)[1]*100//0.1/10\n",
    "\n",
    "        print(f'End: {tr_acc}% (train) vs. {valid_acc}% (validation)')"
   ]
  },
  {
   "cell_type": "code",
   "execution_count": 21,
   "metadata": {
    "executionInfo": {
     "elapsed": 6,
     "status": "ok",
     "timestamp": 1701895032727,
     "user": {
      "displayName": "JovPiano BNJ",
      "userId": "01037020821098556719"
     },
     "user_tz": -60
    },
    "id": "Eq2RoDXFzJtb"
   },
   "outputs": [],
   "source": []
  },
  {
   "cell_type": "code",
   "execution_count": null,
   "metadata": {
    "id": "AtgJmPST1oj5"
   },
   "outputs": [],
   "source": []
  },
  {
   "cell_type": "code",
   "execution_count": 1,
   "metadata": {
    "executionInfo": {
     "elapsed": 692,
     "status": "ok",
     "timestamp": 1701893032850,
     "user": {
      "displayName": "JovPiano BNJ",
      "userId": "01037020821098556719"
     },
     "user_tz": -60
    },
    "id": "DWrKmIuIam96"
   },
   "outputs": [],
   "source": []
  },
  {
   "cell_type": "code",
   "execution_count": null,
   "metadata": {
    "id": "tYj4QhSBd8f9"
   },
   "outputs": [],
   "source": []
  }
 ],
 "metadata": {
  "accelerator": "GPU",
  "colab": {
   "authorship_tag": "ABX9TyPatc4KtPx/LeHGkHP5BPge",
   "name": "",
   "version": ""
  },
  "kernelspec": {
   "display_name": "Python 3",
   "language": "python",
   "name": "python3"
  },
  "language_info": {
   "name": "python"
  }
 },
 "nbformat": 4,
 "nbformat_minor": 4
}
